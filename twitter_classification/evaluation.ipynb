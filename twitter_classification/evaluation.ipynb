{
 "cells": [
  {
   "cell_type": "markdown",
   "metadata": {},
   "source": [
    "## Imports"
   ]
  },
  {
   "cell_type": "code",
   "execution_count": 29,
   "metadata": {},
   "outputs": [],
   "source": [
    "from transformers import RobertaForSequenceClassification, RobertaTokenizer\n",
    "from dataset_extract_transform.preprocess import Loader\n",
    "from training.tokenizer import Tokenizer\n",
    "import torch\n",
    "import numpy as np"
   ]
  },
  {
   "cell_type": "markdown",
   "metadata": {},
   "source": [
    "## Get Testing Dataset"
   ]
  },
  {
   "cell_type": "code",
   "execution_count": 52,
   "metadata": {},
   "outputs": [],
   "source": [
    "loader = Loader('./offensive_tweet_dataset/labeled_data.csv')\n",
    "loader.load()\n",
    "loader.preprocess()\n",
    "test_set, test_labels = loader.get_testing_data()"
   ]
  },
  {
   "cell_type": "code",
   "execution_count": 53,
   "metadata": {},
   "outputs": [
    {
     "name": "stderr",
     "output_type": "stream",
     "text": [
      "c:\\Users\\justi\\PythonProjects\\Twitter_Classification\\twitter_classification\\training\\tokenizer.py:25: UserWarning: To copy construct from a tensor, it is recommended to use sourceTensor.clone().detach() or sourceTensor.clone().detach().requires_grad_(True), rather than torch.tensor(sourceTensor).\n",
      "  torch.tensor(self.tokens['input_ids']),\n",
      "c:\\Users\\justi\\PythonProjects\\Twitter_Classification\\twitter_classification\\training\\tokenizer.py:26: UserWarning: To copy construct from a tensor, it is recommended to use sourceTensor.clone().detach() or sourceTensor.clone().detach().requires_grad_(True), rather than torch.tensor(sourceTensor).\n",
      "  torch.tensor(self.tokens['attention_mask']),\n"
     ]
    },
    {
     "name": "stdout",
     "output_type": "stream",
     "text": [
      "True\n"
     ]
    }
   ],
   "source": [
    "tokenizer = Tokenizer(test_set, test_labels)\n",
    "dataloader = tokenizer.data_loader(32)\n",
    "\n",
    "model = RobertaForSequenceClassification.from_pretrained('trained_models', local_files_only=True, num_labels=3)\n",
    "\n",
    "device = torch.device('cuda' if torch.cuda.is_available() else 'cpu')\n",
    "model.to(device)\n",
    "\n",
    "model.eval()\n",
    "\n",
    "predictions = np.array([])\n",
    "\n",
    "for batch in dataloader:\n",
    "    batch = tuple(b.to(device) for b in batch)\n",
    "\n",
    "    inputs = {\n",
    "        'input_ids':      batch[0],\n",
    "        'attention_mask': batch[1],\n",
    "        'labels':         batch[2],\n",
    "    }\n",
    "\n",
    "    outputs = model(**inputs)\n",
    "    logits = outputs.logits\n",
    "    loss = outputs.loss\n",
    "    predictions = np.append(predictions, np.argmax(logits.detach().numpy(), axis=1))\n",
    "\n",
    "print(predictions.size == test_labels.size)"
   ]
  },
  {
   "cell_type": "markdown",
   "metadata": {},
   "source": [
    "## Model Accuracy"
   ]
  },
  {
   "cell_type": "code",
   "execution_count": 54,
   "metadata": {},
   "outputs": [
    {
     "name": "stdout",
     "output_type": "stream",
     "text": [
      "0.7730482146459552\n"
     ]
    }
   ],
   "source": [
    "true_count = 0\n",
    "false_count = 0\n",
    "for pred, label in zip(predictions, test_labels):\n",
    "    if (pred == label):\n",
    "        true_count += 1\n",
    "    else:\n",
    "        false_count += 1\n",
    "\n",
    "print(true_count / (true_count + false_count))"
   ]
  }
 ],
 "metadata": {
  "kernelspec": {
   "display_name": "Python 3.10.4 ('.venv': venv)",
   "language": "python",
   "name": "python3"
  },
  "language_info": {
   "codemirror_mode": {
    "name": "ipython",
    "version": 3
   },
   "file_extension": ".py",
   "mimetype": "text/x-python",
   "name": "python",
   "nbconvert_exporter": "python",
   "pygments_lexer": "ipython3",
   "version": "3.10.4"
  },
  "orig_nbformat": 4,
  "vscode": {
   "interpreter": {
    "hash": "c7599d468a4654c598080a82e793de66974606f4ff44b757811de020279f98d0"
   }
  }
 },
 "nbformat": 4,
 "nbformat_minor": 2
}
